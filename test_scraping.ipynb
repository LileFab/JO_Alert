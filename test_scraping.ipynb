{
 "cells": [
  {
   "cell_type": "code",
   "execution_count": 1,
   "metadata": {},
   "outputs": [],
   "source": [
    "from bs4 import BeautifulSoup\n",
    "import requests\n",
    "url = \"https://olympics.com/fr/paris-2024/medailles\""
   ]
  },
  {
   "cell_type": "code",
   "execution_count": 2,
   "metadata": {},
   "outputs": [],
   "source": [
    "headers = {\n",
    "    'User-Agent': 'Mozilla/5.0 (Windows NT 10.0; Win64; x64) AppleWebKit/537.36 (KHTML, like Gecko) Chrome/91.0.4472.124 Safari/537.36'\n",
    "}\n",
    "req = requests.get(url, headers=headers)\n",
    "soup = BeautifulSoup(req.text, 'html.parser')  # If this line causes an error, run 'pip install html5lib' or install html5lib"
   ]
  },
  {
   "cell_type": "code",
   "execution_count": 4,
   "metadata": {},
   "outputs": [
    {
     "name": "stdout",
     "output_type": "stream",
     "text": [
      "pays : France  :  or : 5, argent : 8, bronze : 3, total : 16\n"
     ]
    }
   ],
   "source": [
    "all_countries = soup.find(\"div\", {\"data-test-id\": \"virtuoso-item-list\"})\n",
    "all_countries = all_countries.find_all(\"div\", {\"class\": \"emotion-srm-fvu3gb elhe7kv0\"})\n",
    "\n",
    "for c in enumerate(all_countries):\n",
    "    drap = c[1].find(\"span\", {\"class\": \"elhe7kv4 emotion-srm-5xu01z\"}).text\n",
    "    if drap != \"FRA\":\n",
    "        france = c[0]\n",
    "\n",
    "france = all_countries[1]\n",
    "pays = france.find(\"span\", {\"class\": \"elhe7kv5 emotion-srm-uu3d5n\"}).text\n",
    "liste = france.find_all(\"span\")\n",
    "gold = int(liste[3].text)\n",
    "silver = int(liste[4].text)\n",
    "bronze = int(liste[5].text)\n",
    "total = int(liste[6].text)\n",
    "\n",
    "print(f\"pays : {pays}  :  or : {gold}, argent : {silver}, bronze : {bronze}, total : {total}\")"
   ]
  }
 ],
 "metadata": {
  "kernelspec": {
   "display_name": "JO",
   "language": "python",
   "name": "python3"
  },
  "language_info": {
   "codemirror_mode": {
    "name": "ipython",
    "version": 3
   },
   "file_extension": ".py",
   "mimetype": "text/x-python",
   "name": "python",
   "nbconvert_exporter": "python",
   "pygments_lexer": "ipython3",
   "version": "3.11.3"
  }
 },
 "nbformat": 4,
 "nbformat_minor": 2
}
